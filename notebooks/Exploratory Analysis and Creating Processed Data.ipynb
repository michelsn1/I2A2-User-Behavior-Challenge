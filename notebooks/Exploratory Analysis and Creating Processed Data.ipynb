{
 "cells": [
  {
   "cell_type": "code",
   "execution_count": 1,
   "metadata": {},
   "outputs": [],
   "source": [
    "%load_ext autoreload\n",
    "%autoreload 2\n",
    "\n",
    "if __name__ == '__main__' and __package__ is None:\n",
    "    from os import sys, path\n",
    "    sys.path.append(path.dirname(path.dirname(path.abspath(\"__file__\"))))"
   ]
  },
  {
   "cell_type": "code",
   "execution_count": 36,
   "metadata": {},
   "outputs": [],
   "source": [
    "import os\n",
    "from src.data.make_raw_dataset import MakeRawDataset"
   ]
  },
  {
   "cell_type": "code",
   "execution_count": 44,
   "metadata": {},
   "outputs": [
    {
     "data": {
      "text/html": [
       "<div>\n",
       "<style scoped>\n",
       "    .dataframe tbody tr th:only-of-type {\n",
       "        vertical-align: middle;\n",
       "    }\n",
       "\n",
       "    .dataframe tbody tr th {\n",
       "        vertical-align: top;\n",
       "    }\n",
       "\n",
       "    .dataframe thead th {\n",
       "        text-align: right;\n",
       "    }\n",
       "</style>\n",
       "<table border=\"1\" class=\"dataframe\">\n",
       "  <thead>\n",
       "    <tr style=\"text-align: right;\">\n",
       "      <th></th>\n",
       "      <th>subject</th>\n",
       "      <th>session</th>\n",
       "      <th>record timestamp</th>\n",
       "      <th>client timestamp</th>\n",
       "      <th>button</th>\n",
       "      <th>state</th>\n",
       "      <th>x</th>\n",
       "      <th>y</th>\n",
       "    </tr>\n",
       "  </thead>\n",
       "  <tbody>\n",
       "    <tr>\n",
       "      <th>0</th>\n",
       "      <td>Subject_10</td>\n",
       "      <td>session_6509784211</td>\n",
       "      <td>0.000</td>\n",
       "      <td>0.000</td>\n",
       "      <td>NoButton</td>\n",
       "      <td>Move</td>\n",
       "      <td>619</td>\n",
       "      <td>445</td>\n",
       "    </tr>\n",
       "    <tr>\n",
       "      <th>1</th>\n",
       "      <td>Subject_10</td>\n",
       "      <td>session_6509784211</td>\n",
       "      <td>0.112</td>\n",
       "      <td>0.109</td>\n",
       "      <td>NoButton</td>\n",
       "      <td>Move</td>\n",
       "      <td>617</td>\n",
       "      <td>474</td>\n",
       "    </tr>\n",
       "    <tr>\n",
       "      <th>2</th>\n",
       "      <td>Subject_10</td>\n",
       "      <td>session_6509784211</td>\n",
       "      <td>0.217</td>\n",
       "      <td>0.218</td>\n",
       "      <td>NoButton</td>\n",
       "      <td>Move</td>\n",
       "      <td>660</td>\n",
       "      <td>512</td>\n",
       "    </tr>\n",
       "    <tr>\n",
       "      <th>3</th>\n",
       "      <td>Subject_10</td>\n",
       "      <td>session_6509784211</td>\n",
       "      <td>0.329</td>\n",
       "      <td>0.327</td>\n",
       "      <td>NoButton</td>\n",
       "      <td>Move</td>\n",
       "      <td>728</td>\n",
       "      <td>566</td>\n",
       "    </tr>\n",
       "    <tr>\n",
       "      <th>4</th>\n",
       "      <td>Subject_10</td>\n",
       "      <td>session_6509784211</td>\n",
       "      <td>0.446</td>\n",
       "      <td>0.436</td>\n",
       "      <td>NoButton</td>\n",
       "      <td>Move</td>\n",
       "      <td>776</td>\n",
       "      <td>605</td>\n",
       "    </tr>\n",
       "  </tbody>\n",
       "</table>\n",
       "</div>"
      ],
      "text/plain": [
       "      subject             session  record timestamp  client timestamp  \\\n",
       "0  Subject_10  session_6509784211             0.000             0.000   \n",
       "1  Subject_10  session_6509784211             0.112             0.109   \n",
       "2  Subject_10  session_6509784211             0.217             0.218   \n",
       "3  Subject_10  session_6509784211             0.329             0.327   \n",
       "4  Subject_10  session_6509784211             0.446             0.436   \n",
       "\n",
       "     button state    x    y  \n",
       "0  NoButton  Move  619  445  \n",
       "1  NoButton  Move  617  474  \n",
       "2  NoButton  Move  660  512  \n",
       "3  NoButton  Move  728  566  \n",
       "4  NoButton  Move  776  605  "
      ]
     },
     "execution_count": 44,
     "metadata": {},
     "output_type": "execute_result"
    }
   ],
   "source": [
    "datasets = MakeRawDataset()\n",
    "df_train = datasets.create_dataframe()\n",
    "df_train.head()"
   ]
  }
 ],
 "metadata": {
  "kernelspec": {
   "display_name": "Python 3",
   "language": "python",
   "name": "python3"
  },
  "language_info": {
   "codemirror_mode": {
    "name": "ipython",
    "version": 3
   },
   "file_extension": ".py",
   "mimetype": "text/x-python",
   "name": "python",
   "nbconvert_exporter": "python",
   "pygments_lexer": "ipython3",
   "version": "3.7.3"
  }
 },
 "nbformat": 4,
 "nbformat_minor": 2
}
