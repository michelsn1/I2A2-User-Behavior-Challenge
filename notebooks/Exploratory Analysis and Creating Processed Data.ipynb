{
 "cells": [
  {
   "cell_type": "code",
   "execution_count": 1,
   "metadata": {},
   "outputs": [],
   "source": [
    "%load_ext autoreload\n",
    "%autoreload 2\n",
    "\n",
    "if __name__ == '__main__' and __package__ is None:\n",
    "    from os import sys, path\n",
    "    sys.path.append(path.dirname(path.dirname(path.abspath(\"__file__\"))))"
   ]
  },
  {
   "cell_type": "code",
   "execution_count": 4,
   "metadata": {},
   "outputs": [],
   "source": [
    "import pandas as pd"
   ]
  },
  {
   "cell_type": "code",
   "execution_count": 7,
   "metadata": {},
   "outputs": [],
   "source": [
    "from src.visualization import visualize"
   ]
  },
  {
   "cell_type": "code",
   "execution_count": 6,
   "metadata": {},
   "outputs": [
    {
     "data": {
      "text/html": [
       "<div>\n",
       "<style scoped>\n",
       "    .dataframe tbody tr th:only-of-type {\n",
       "        vertical-align: middle;\n",
       "    }\n",
       "\n",
       "    .dataframe tbody tr th {\n",
       "        vertical-align: top;\n",
       "    }\n",
       "\n",
       "    .dataframe thead th {\n",
       "        text-align: right;\n",
       "    }\n",
       "</style>\n",
       "<table border=\"1\" class=\"dataframe\">\n",
       "  <thead>\n",
       "    <tr style=\"text-align: right;\">\n",
       "      <th></th>\n",
       "      <th>subject</th>\n",
       "      <th>session</th>\n",
       "      <th>record timestamp</th>\n",
       "      <th>client timestamp</th>\n",
       "      <th>button</th>\n",
       "      <th>state</th>\n",
       "      <th>x</th>\n",
       "      <th>y</th>\n",
       "    </tr>\n",
       "  </thead>\n",
       "  <tbody>\n",
       "    <tr>\n",
       "      <th>0</th>\n",
       "      <td>Subject_10</td>\n",
       "      <td>session_3412209090</td>\n",
       "      <td>0.000</td>\n",
       "      <td>0.000</td>\n",
       "      <td>NoButton</td>\n",
       "      <td>Move</td>\n",
       "      <td>118</td>\n",
       "      <td>213</td>\n",
       "    </tr>\n",
       "    <tr>\n",
       "      <th>1</th>\n",
       "      <td>Subject_10</td>\n",
       "      <td>session_3412209090</td>\n",
       "      <td>0.185</td>\n",
       "      <td>0.172</td>\n",
       "      <td>NoButton</td>\n",
       "      <td>Move</td>\n",
       "      <td>119</td>\n",
       "      <td>213</td>\n",
       "    </tr>\n",
       "    <tr>\n",
       "      <th>2</th>\n",
       "      <td>Subject_10</td>\n",
       "      <td>session_3412209090</td>\n",
       "      <td>0.615</td>\n",
       "      <td>0.609</td>\n",
       "      <td>NoButton</td>\n",
       "      <td>Move</td>\n",
       "      <td>120</td>\n",
       "      <td>213</td>\n",
       "    </tr>\n",
       "    <tr>\n",
       "      <th>3</th>\n",
       "      <td>Subject_10</td>\n",
       "      <td>session_3412209090</td>\n",
       "      <td>0.744</td>\n",
       "      <td>0.733</td>\n",
       "      <td>NoButton</td>\n",
       "      <td>Move</td>\n",
       "      <td>121</td>\n",
       "      <td>212</td>\n",
       "    </tr>\n",
       "    <tr>\n",
       "      <th>4</th>\n",
       "      <td>Subject_10</td>\n",
       "      <td>session_3412209090</td>\n",
       "      <td>0.984</td>\n",
       "      <td>0.967</td>\n",
       "      <td>NoButton</td>\n",
       "      <td>Move</td>\n",
       "      <td>121</td>\n",
       "      <td>211</td>\n",
       "    </tr>\n",
       "  </tbody>\n",
       "</table>\n",
       "</div>"
      ],
      "text/plain": [
       "      subject             session  record timestamp  client timestamp  \\\n",
       "0  Subject_10  session_3412209090             0.000             0.000   \n",
       "1  Subject_10  session_3412209090             0.185             0.172   \n",
       "2  Subject_10  session_3412209090             0.615             0.609   \n",
       "3  Subject_10  session_3412209090             0.744             0.733   \n",
       "4  Subject_10  session_3412209090             0.984             0.967   \n",
       "\n",
       "     button state    x    y  \n",
       "0  NoButton  Move  118  213  \n",
       "1  NoButton  Move  119  213  \n",
       "2  NoButton  Move  120  213  \n",
       "3  NoButton  Move  121  212  \n",
       "4  NoButton  Move  121  211  "
      ]
     },
     "execution_count": 6,
     "metadata": {},
     "output_type": "execute_result"
    }
   ],
   "source": [
    "df_train = pd.read_csv('../data/raw/train_data.csv')\n",
    "df_train.head()"
   ]
  },
  {
   "cell_type": "code",
   "execution_count": 11,
   "metadata": {},
   "outputs": [
    {
     "name": "stderr",
     "output_type": "stream",
     "text": [
      "/home/michel/anaconda3/lib/python3.7/site-packages/scipy/stats/stats.py:1713: FutureWarning: Using a non-tuple sequence for multidimensional indexing is deprecated; use `arr[tuple(seq)]` instead of `arr[seq]`. In the future this will be interpreted as an array index, `arr[np.array(seq)]`, which will result either in an error or a different result.\n",
      "  return np.add.reduce(sorted[indexer] * weights, axis=axis) / sumval\n"
     ]
    },
    {
     "data": {
      "image/png": "[encoded data removed]",
      "text/plain": [
       "<Figure size 432x432 with 3 Axes>"
      ]
     },
     "metadata": {
      "needs_background": "light"
     },
     "output_type": "display_data"
    }
   ],
   "source": [
    "visualize.two_d_density_plot(df_train)"
   ]
  }
 ],
 "metadata": {
  "kernelspec": {
   "display_name": "Python 3",
   "language": "python",
   "name": "python3"
  },
  "language_info": {
   "codemirror_mode": {
    "name": "ipython",
    "version": 3
   },
   "file_extension": ".py",
   "mimetype": "text/x-python",
   "name": "python",
   "nbconvert_exporter": "python",
   "pygments_lexer": "ipython3",
   "version": "3.7.2"
  }
 },
 "nbformat": 4,
 "nbformat_minor": 2
}
