{
 "cells": [
  {
   "cell_type": "code",
   "execution_count": 1,
   "metadata": {},
   "outputs": [],
   "source": [
    "%load_ext autoreload\n",
    "%autoreload 2\n",
    "\n",
    "if __name__ == '__main__' and __package__ is None:\n",
    "    from os import sys, path\n",
    "    sys.path.append(path.dirname(path.dirname(path.abspath(\"__file__\"))))"
   ]
  },
  {
   "cell_type": "code",
   "execution_count": 2,
   "metadata": {},
   "outputs": [],
   "source": [
    "import numpy as np\n",
    "import pandas as pd\n",
    "import xgboost as xgb"
   ]
  },
  {
   "cell_type": "code",
   "execution_count": 3,
   "metadata": {},
   "outputs": [],
   "source": [
    "model = xgb.Booster()\n",
    "model.load_model('../models/basic_XGB_model_1.model')"
   ]
  },
  {
   "cell_type": "markdown",
   "metadata": {},
   "source": [
    "#### Loading the data"
   ]
  },
  {
   "cell_type": "code",
   "execution_count": 4,
   "metadata": {},
   "outputs": [],
   "source": [
    "from src.features import main_preprocess"
   ]
  },
  {
   "cell_type": "code",
   "execution_count": 5,
   "metadata": {},
   "outputs": [
    {
     "data": {
      "text/html": [
       "<div>\n",
       "<style scoped>\n",
       "    .dataframe tbody tr th:only-of-type {\n",
       "        vertical-align: middle;\n",
       "    }\n",
       "\n",
       "    .dataframe tbody tr th {\n",
       "        vertical-align: top;\n",
       "    }\n",
       "\n",
       "    .dataframe thead th {\n",
       "        text-align: right;\n",
       "    }\n",
       "</style>\n",
       "<table border=\"1\" class=\"dataframe\">\n",
       "  <thead>\n",
       "    <tr style=\"text-align: right;\">\n",
       "      <th></th>\n",
       "      <th>index</th>\n",
       "      <th>subject</th>\n",
       "      <th>timestamp</th>\n",
       "      <th>x</th>\n",
       "      <th>y</th>\n",
       "      <th>target</th>\n",
       "    </tr>\n",
       "  </thead>\n",
       "  <tbody>\n",
       "    <tr>\n",
       "      <th>0</th>\n",
       "      <td>765</td>\n",
       "      <td>276fba62d85e</td>\n",
       "      <td>1.572007e+09</td>\n",
       "      <td>1740</td>\n",
       "      <td>420</td>\n",
       "      <td>276fba62d85e</td>\n",
       "    </tr>\n",
       "    <tr>\n",
       "      <th>1</th>\n",
       "      <td>668</td>\n",
       "      <td>276fba62d85e</td>\n",
       "      <td>1.572007e+09</td>\n",
       "      <td>1743</td>\n",
       "      <td>419</td>\n",
       "      <td>276fba62d85e</td>\n",
       "    </tr>\n",
       "    <tr>\n",
       "      <th>2</th>\n",
       "      <td>316</td>\n",
       "      <td>276fba62d85e</td>\n",
       "      <td>1.572007e+09</td>\n",
       "      <td>1744</td>\n",
       "      <td>418</td>\n",
       "      <td>276fba62d85e</td>\n",
       "    </tr>\n",
       "    <tr>\n",
       "      <th>3</th>\n",
       "      <td>1334</td>\n",
       "      <td>276fba62d85e</td>\n",
       "      <td>1.572007e+09</td>\n",
       "      <td>1745</td>\n",
       "      <td>417</td>\n",
       "      <td>276fba62d85e</td>\n",
       "    </tr>\n",
       "    <tr>\n",
       "      <th>4</th>\n",
       "      <td>900</td>\n",
       "      <td>276fba62d85e</td>\n",
       "      <td>1.572007e+09</td>\n",
       "      <td>1746</td>\n",
       "      <td>416</td>\n",
       "      <td>276fba62d85e</td>\n",
       "    </tr>\n",
       "  </tbody>\n",
       "</table>\n",
       "</div>"
      ],
      "text/plain": [
       "   index       subject     timestamp     x    y        target\n",
       "0    765  276fba62d85e  1.572007e+09  1740  420  276fba62d85e\n",
       "1    668  276fba62d85e  1.572007e+09  1743  419  276fba62d85e\n",
       "2    316  276fba62d85e  1.572007e+09  1744  418  276fba62d85e\n",
       "3   1334  276fba62d85e  1.572007e+09  1745  417  276fba62d85e\n",
       "4    900  276fba62d85e  1.572007e+09  1746  416  276fba62d85e"
      ]
     },
     "execution_count": 5,
     "metadata": {},
     "output_type": "execute_result"
    }
   ],
   "source": [
    "df_raw = pd.read_csv('../data/raw/test_data.csv')\n",
    "df_raw['target']=df_raw['subject']\n",
    "df_raw.head()"
   ]
  },
  {
   "cell_type": "code",
   "execution_count": 6,
   "metadata": {},
   "outputs": [
    {
     "data": {
      "text/plain": [
       "716"
      ]
     },
     "execution_count": 6,
     "metadata": {},
     "output_type": "execute_result"
    }
   ],
   "source": [
    "df_raw.subject.nunique()"
   ]
  },
  {
   "cell_type": "code",
   "execution_count": 7,
   "metadata": {},
   "outputs": [],
   "source": [
    "df_subjects = []\n",
    "for subject in df_raw['subject'].unique():\n",
    "    df_sub=df_raw[df_raw['subject']==subject].reset_index()\n",
    "    df_sub['timestamp']= df_sub['timestamp'] - df_sub.loc[0,'timestamp']\n",
    "    df_subjects.append(main_preprocess.process_files(df_sub,subject,1))\n"
   ]
  },
  {
   "cell_type": "code",
   "execution_count": 8,
   "metadata": {},
   "outputs": [
    {
     "data": {
      "text/html": [
       "<div>\n",
       "<style scoped>\n",
       "    .dataframe tbody tr th:only-of-type {\n",
       "        vertical-align: middle;\n",
       "    }\n",
       "\n",
       "    .dataframe tbody tr th {\n",
       "        vertical-align: top;\n",
       "    }\n",
       "\n",
       "    .dataframe thead th {\n",
       "        text-align: right;\n",
       "    }\n",
       "</style>\n",
       "<table border=\"1\" class=\"dataframe\">\n",
       "  <thead>\n",
       "    <tr style=\"text-align: right;\">\n",
       "      <th></th>\n",
       "      <th>traveled_distance_pixel</th>\n",
       "      <th>elapsed_time</th>\n",
       "      <th>direction_of_movement</th>\n",
       "      <th>straightness</th>\n",
       "      <th>num_points</th>\n",
       "      <th>sum_of_angles</th>\n",
       "      <th>mean_curv</th>\n",
       "      <th>sd_curv</th>\n",
       "      <th>max_curv</th>\n",
       "      <th>min_curv</th>\n",
       "      <th>...</th>\n",
       "      <th>max_a</th>\n",
       "      <th>min_a</th>\n",
       "      <th>mean_jerk</th>\n",
       "      <th>sd_jerk</th>\n",
       "      <th>max_jerk</th>\n",
       "      <th>min_jerk</th>\n",
       "      <th>a_beg_time</th>\n",
       "      <th>n_from</th>\n",
       "      <th>n_to</th>\n",
       "      <th>target</th>\n",
       "    </tr>\n",
       "  </thead>\n",
       "  <tbody>\n",
       "    <tr>\n",
       "      <th>0</th>\n",
       "      <td>101.405679</td>\n",
       "      <td>1.672205</td>\n",
       "      <td>7</td>\n",
       "      <td>0.540580</td>\n",
       "      <td>49</td>\n",
       "      <td>-15.233830</td>\n",
       "      <td>0.037044</td>\n",
       "      <td>0.260066</td>\n",
       "      <td>0.785398</td>\n",
       "      <td>-0.463648</td>\n",
       "      <td>...</td>\n",
       "      <td>49910.007121</td>\n",
       "      <td>-31351.548232</td>\n",
       "      <td>154871.682837</td>\n",
       "      <td>2.748253e+06</td>\n",
       "      <td>7.117331e+06</td>\n",
       "      <td>-6.654395e+06</td>\n",
       "      <td>0.016481</td>\n",
       "      <td>2</td>\n",
       "      <td>1</td>\n",
       "      <td>276fba62d85e</td>\n",
       "    </tr>\n",
       "    <tr>\n",
       "      <th>1</th>\n",
       "      <td>226.686449</td>\n",
       "      <td>0.999709</td>\n",
       "      <td>3</td>\n",
       "      <td>0.740074</td>\n",
       "      <td>39</td>\n",
       "      <td>67.235246</td>\n",
       "      <td>-0.027324</td>\n",
       "      <td>0.289079</td>\n",
       "      <td>0.891712</td>\n",
       "      <td>-1.666081</td>\n",
       "      <td>...</td>\n",
       "      <td>81278.763774</td>\n",
       "      <td>-119938.827671</td>\n",
       "      <td>-136869.179527</td>\n",
       "      <td>6.699607e+06</td>\n",
       "      <td>1.095544e+07</td>\n",
       "      <td>-1.677188e+07</td>\n",
       "      <td>0.007850</td>\n",
       "      <td>2</td>\n",
       "      <td>1</td>\n",
       "      <td>276fba62d85e</td>\n",
       "    </tr>\n",
       "    <tr>\n",
       "      <th>2</th>\n",
       "      <td>116.964248</td>\n",
       "      <td>1.264075</td>\n",
       "      <td>7</td>\n",
       "      <td>0.647122</td>\n",
       "      <td>47</td>\n",
       "      <td>-3.902605</td>\n",
       "      <td>0.009193</td>\n",
       "      <td>0.413744</td>\n",
       "      <td>1.570796</td>\n",
       "      <td>-1.338973</td>\n",
       "      <td>...</td>\n",
       "      <td>48877.263943</td>\n",
       "      <td>-38149.601577</td>\n",
       "      <td>160784.276635</td>\n",
       "      <td>3.922517e+06</td>\n",
       "      <td>6.649594e+06</td>\n",
       "      <td>-7.099774e+06</td>\n",
       "      <td>0.072148</td>\n",
       "      <td>2</td>\n",
       "      <td>1</td>\n",
       "      <td>276fba62d85e</td>\n",
       "    </tr>\n",
       "    <tr>\n",
       "      <th>3</th>\n",
       "      <td>12.000000</td>\n",
       "      <td>1.680359</td>\n",
       "      <td>2</td>\n",
       "      <td>1.000000</td>\n",
       "      <td>9</td>\n",
       "      <td>10.995574</td>\n",
       "      <td>0.187000</td>\n",
       "      <td>0.298028</td>\n",
       "      <td>0.785398</td>\n",
       "      <td>0.523599</td>\n",
       "      <td>...</td>\n",
       "      <td>46957.340379</td>\n",
       "      <td>-16022.767518</td>\n",
       "      <td>-312076.605277</td>\n",
       "      <td>4.044690e+06</td>\n",
       "      <td>5.874821e+06</td>\n",
       "      <td>-7.707365e+06</td>\n",
       "      <td>0.007993</td>\n",
       "      <td>2</td>\n",
       "      <td>1</td>\n",
       "      <td>276fba62d85e</td>\n",
       "    </tr>\n",
       "    <tr>\n",
       "      <th>4</th>\n",
       "      <td>49.589294</td>\n",
       "      <td>0.999678</td>\n",
       "      <td>0</td>\n",
       "      <td>0.961417</td>\n",
       "      <td>24</td>\n",
       "      <td>3.715897</td>\n",
       "      <td>-0.019986</td>\n",
       "      <td>0.184179</td>\n",
       "      <td>0.227512</td>\n",
       "      <td>-0.785398</td>\n",
       "      <td>...</td>\n",
       "      <td>90710.089313</td>\n",
       "      <td>-20109.435365</td>\n",
       "      <td>644042.397199</td>\n",
       "      <td>3.717340e+06</td>\n",
       "      <td>1.030601e+07</td>\n",
       "      <td>-9.538733e+06</td>\n",
       "      <td>0.799685</td>\n",
       "      <td>2</td>\n",
       "      <td>1</td>\n",
       "      <td>276fba62d85e</td>\n",
       "    </tr>\n",
       "  </tbody>\n",
       "</table>\n",
       "<p>5 rows × 41 columns</p>\n",
       "</div>"
      ],
      "text/plain": [
       "   traveled_distance_pixel  elapsed_time direction_of_movement  straightness  \\\n",
       "0               101.405679      1.672205                     7      0.540580   \n",
       "1               226.686449      0.999709                     3      0.740074   \n",
       "2               116.964248      1.264075                     7      0.647122   \n",
       "3                12.000000      1.680359                     2      1.000000   \n",
       "4                49.589294      0.999678                     0      0.961417   \n",
       "\n",
       "  num_points  sum_of_angles  mean_curv   sd_curv  max_curv  min_curv  \\\n",
       "0         49     -15.233830   0.037044  0.260066  0.785398 -0.463648   \n",
       "1         39      67.235246  -0.027324  0.289079  0.891712 -1.666081   \n",
       "2         47      -3.902605   0.009193  0.413744  1.570796 -1.338973   \n",
       "3          9      10.995574   0.187000  0.298028  0.785398  0.523599   \n",
       "4         24       3.715897  -0.019986  0.184179  0.227512 -0.785398   \n",
       "\n",
       "       ...              max_a          min_a      mean_jerk       sd_jerk  \\\n",
       "0      ...       49910.007121  -31351.548232  154871.682837  2.748253e+06   \n",
       "1      ...       81278.763774 -119938.827671 -136869.179527  6.699607e+06   \n",
       "2      ...       48877.263943  -38149.601577  160784.276635  3.922517e+06   \n",
       "3      ...       46957.340379  -16022.767518 -312076.605277  4.044690e+06   \n",
       "4      ...       90710.089313  -20109.435365  644042.397199  3.717340e+06   \n",
       "\n",
       "       max_jerk      min_jerk a_beg_time  n_from  n_to        target  \n",
       "0  7.117331e+06 -6.654395e+06   0.016481       2     1  276fba62d85e  \n",
       "1  1.095544e+07 -1.677188e+07   0.007850       2     1  276fba62d85e  \n",
       "2  6.649594e+06 -7.099774e+06   0.072148       2     1  276fba62d85e  \n",
       "3  5.874821e+06 -7.707365e+06   0.007993       2     1  276fba62d85e  \n",
       "4  1.030601e+07 -9.538733e+06   0.799685       2     1  276fba62d85e  \n",
       "\n",
       "[5 rows x 41 columns]"
      ]
     },
     "execution_count": 8,
     "metadata": {},
     "output_type": "execute_result"
    }
   ],
   "source": [
    "df_subjects=pd.concat(df_subjects)\n",
    "df_subjects.head()"
   ]
  },
  {
   "cell_type": "code",
   "execution_count": 9,
   "metadata": {},
   "outputs": [
    {
     "data": {
      "text/plain": [
       "713"
      ]
     },
     "execution_count": 9,
     "metadata": {},
     "output_type": "execute_result"
    }
   ],
   "source": [
    "df_subjects.target.nunique()"
   ]
  },
  {
   "cell_type": "code",
   "execution_count": 10,
   "metadata": {},
   "outputs": [],
   "source": [
    "for i in ['direction_of_movement', 'num_points', 'num_critical_points', 'n_from', 'n_to']:\n",
    "    df_subjects[i]=df_subjects[i].astype(int)\n"
   ]
  },
  {
   "cell_type": "markdown",
   "metadata": {},
   "source": [
    "### Predicting"
   ]
  },
  {
   "cell_type": "code",
   "execution_count": 11,
   "metadata": {},
   "outputs": [],
   "source": [
    "predictions= {}\n",
    "i=0\n",
    "for subject in df_subjects.target.unique():\n",
    "    df_sub = df_subjects[df_subjects['target']==subject].reset_index(drop=True)\n",
    "    d_matrix =  xgb.DMatrix(data=df_sub.iloc[:,:-1])\n",
    "    preds = model.predict(d_matrix)\n",
    "    y_pred = np.asarray([np.argmax(line) for line in preds])\n",
    "    count = np.bincount(y_pred)\n",
    "    predictions[i]={\n",
    "        'id' : subject,\n",
    "        'predictions': y_pred,\n",
    "        'label': np.argmax(count),\n",
    "        'count' : count\n",
    "    }\n",
    "    i+=1"
   ]
  },
  {
   "cell_type": "code",
   "execution_count": 12,
   "metadata": {},
   "outputs": [
    {
     "data": {
      "text/html": [
       "<div>\n",
       "<style scoped>\n",
       "    .dataframe tbody tr th:only-of-type {\n",
       "        vertical-align: middle;\n",
       "    }\n",
       "\n",
       "    .dataframe tbody tr th {\n",
       "        vertical-align: top;\n",
       "    }\n",
       "\n",
       "    .dataframe thead th {\n",
       "        text-align: right;\n",
       "    }\n",
       "</style>\n",
       "<table border=\"1\" class=\"dataframe\">\n",
       "  <thead>\n",
       "    <tr style=\"text-align: right;\">\n",
       "      <th></th>\n",
       "      <th>id</th>\n",
       "      <th>label</th>\n",
       "    </tr>\n",
       "  </thead>\n",
       "  <tbody>\n",
       "    <tr>\n",
       "      <th>0</th>\n",
       "      <td>86e6f7fc2e7b</td>\n",
       "      <td>1</td>\n",
       "    </tr>\n",
       "    <tr>\n",
       "      <th>1</th>\n",
       "      <td>2a3e7156e716</td>\n",
       "      <td>1</td>\n",
       "    </tr>\n",
       "    <tr>\n",
       "      <th>2</th>\n",
       "      <td>9c4a194c95bf</td>\n",
       "      <td>3</td>\n",
       "    </tr>\n",
       "    <tr>\n",
       "      <th>3</th>\n",
       "      <td>6c72198b837c</td>\n",
       "      <td>3</td>\n",
       "    </tr>\n",
       "    <tr>\n",
       "      <th>4</th>\n",
       "      <td>5155dc4adbfe</td>\n",
       "      <td>3</td>\n",
       "    </tr>\n",
       "  </tbody>\n",
       "</table>\n",
       "</div>"
      ],
      "text/plain": [
       "             id  label\n",
       "0  86e6f7fc2e7b      1\n",
       "1  2a3e7156e716      1\n",
       "2  9c4a194c95bf      3\n",
       "3  6c72198b837c      3\n",
       "4  5155dc4adbfe      3"
      ]
     },
     "execution_count": 12,
     "metadata": {},
     "output_type": "execute_result"
    }
   ],
   "source": [
    "df_final = pd.read_csv('../data/raw/sample_submission.csv')\n",
    "df_final.head()"
   ]
  },
  {
   "cell_type": "code",
   "execution_count": 26,
   "metadata": {},
   "outputs": [],
   "source": [
    "df_final = pd.read_csv('../data/raw/sample_submission.csv')\n",
    "df_pred=pd.DataFrame.from_dict(predictions,orient='Index')\n",
    "for session in df_pred.id:\n",
    "    df_final.loc[df_final['id']==session,'label']=df_pred.loc[df_pred['id']==session,'label'].values[0]"
   ]
  },
  {
   "cell_type": "code",
   "execution_count": 27,
   "metadata": {},
   "outputs": [
    {
     "data": {
      "text/html": [
       "<div>\n",
       "<style scoped>\n",
       "    .dataframe tbody tr th:only-of-type {\n",
       "        vertical-align: middle;\n",
       "    }\n",
       "\n",
       "    .dataframe tbody tr th {\n",
       "        vertical-align: top;\n",
       "    }\n",
       "\n",
       "    .dataframe thead th {\n",
       "        text-align: right;\n",
       "    }\n",
       "</style>\n",
       "<table border=\"1\" class=\"dataframe\">\n",
       "  <thead>\n",
       "    <tr style=\"text-align: right;\">\n",
       "      <th></th>\n",
       "      <th>id</th>\n",
       "      <th>predictions</th>\n",
       "      <th>label</th>\n",
       "      <th>count</th>\n",
       "    </tr>\n",
       "  </thead>\n",
       "  <tbody>\n",
       "    <tr>\n",
       "      <th>0</th>\n",
       "      <td>276fba62d85e</td>\n",
       "      <td>[3, 3, 3, 3, 3, 3, 3, 3, 3, 3, 3, 3, 3, 3, 3, ...</td>\n",
       "      <td>3</td>\n",
       "      <td>[0, 2, 0, 38]</td>\n",
       "    </tr>\n",
       "    <tr>\n",
       "      <th>1</th>\n",
       "      <td>f8c8eb72f644</td>\n",
       "      <td>[0, 0, 0, 0, 0, 0, 0, 0, 0, 0, 0]</td>\n",
       "      <td>0</td>\n",
       "      <td>[11]</td>\n",
       "    </tr>\n",
       "    <tr>\n",
       "      <th>2</th>\n",
       "      <td>0febae6ce749</td>\n",
       "      <td>[0, 0, 0, 0, 0]</td>\n",
       "      <td>0</td>\n",
       "      <td>[5]</td>\n",
       "    </tr>\n",
       "    <tr>\n",
       "      <th>3</th>\n",
       "      <td>dae029b817e4</td>\n",
       "      <td>[0, 0, 0]</td>\n",
       "      <td>0</td>\n",
       "      <td>[3]</td>\n",
       "    </tr>\n",
       "    <tr>\n",
       "      <th>4</th>\n",
       "      <td>dada21bc7f87</td>\n",
       "      <td>[1, 1, 1, 3, 3, 3, 1, 3, 3, 3, 3, 0, 3, 1, 1, ...</td>\n",
       "      <td>1</td>\n",
       "      <td>[1, 14, 0, 8]</td>\n",
       "    </tr>\n",
       "  </tbody>\n",
       "</table>\n",
       "</div>"
      ],
      "text/plain": [
       "             id                                        predictions  label  \\\n",
       "0  276fba62d85e  [3, 3, 3, 3, 3, 3, 3, 3, 3, 3, 3, 3, 3, 3, 3, ...      3   \n",
       "1  f8c8eb72f644                  [0, 0, 0, 0, 0, 0, 0, 0, 0, 0, 0]      0   \n",
       "2  0febae6ce749                                    [0, 0, 0, 0, 0]      0   \n",
       "3  dae029b817e4                                          [0, 0, 0]      0   \n",
       "4  dada21bc7f87  [1, 1, 1, 3, 3, 3, 1, 3, 3, 3, 3, 0, 3, 1, 1, ...      1   \n",
       "\n",
       "           count  \n",
       "0  [0, 2, 0, 38]  \n",
       "1           [11]  \n",
       "2            [5]  \n",
       "3            [3]  \n",
       "4  [1, 14, 0, 8]  "
      ]
     },
     "execution_count": 27,
     "metadata": {},
     "output_type": "execute_result"
    }
   ],
   "source": [
    "df_pred.head()"
   ]
  },
  {
   "cell_type": "code",
   "execution_count": 28,
   "metadata": {},
   "outputs": [
    {
     "name": "stdout",
     "output_type": "stream",
     "text": [
      "(731, 2)\n"
     ]
    },
    {
     "data": {
      "text/html": [
       "<div>\n",
       "<style scoped>\n",
       "    .dataframe tbody tr th:only-of-type {\n",
       "        vertical-align: middle;\n",
       "    }\n",
       "\n",
       "    .dataframe tbody tr th {\n",
       "        vertical-align: top;\n",
       "    }\n",
       "\n",
       "    .dataframe thead th {\n",
       "        text-align: right;\n",
       "    }\n",
       "</style>\n",
       "<table border=\"1\" class=\"dataframe\">\n",
       "  <thead>\n",
       "    <tr style=\"text-align: right;\">\n",
       "      <th></th>\n",
       "      <th>id</th>\n",
       "      <th>label</th>\n",
       "    </tr>\n",
       "  </thead>\n",
       "  <tbody>\n",
       "    <tr>\n",
       "      <th>0</th>\n",
       "      <td>86e6f7fc2e7b</td>\n",
       "      <td>1</td>\n",
       "    </tr>\n",
       "    <tr>\n",
       "      <th>1</th>\n",
       "      <td>2a3e7156e716</td>\n",
       "      <td>1</td>\n",
       "    </tr>\n",
       "    <tr>\n",
       "      <th>2</th>\n",
       "      <td>9c4a194c95bf</td>\n",
       "      <td>3</td>\n",
       "    </tr>\n",
       "    <tr>\n",
       "      <th>3</th>\n",
       "      <td>6c72198b837c</td>\n",
       "      <td>1</td>\n",
       "    </tr>\n",
       "    <tr>\n",
       "      <th>4</th>\n",
       "      <td>5155dc4adbfe</td>\n",
       "      <td>3</td>\n",
       "    </tr>\n",
       "  </tbody>\n",
       "</table>\n",
       "</div>"
      ],
      "text/plain": [
       "             id  label\n",
       "0  86e6f7fc2e7b      1\n",
       "1  2a3e7156e716      1\n",
       "2  9c4a194c95bf      3\n",
       "3  6c72198b837c      1\n",
       "4  5155dc4adbfe      3"
      ]
     },
     "execution_count": 28,
     "metadata": {},
     "output_type": "execute_result"
    }
   ],
   "source": [
    "print(df_final.shape)\n",
    "df_final.head()"
   ]
  },
  {
   "cell_type": "code",
   "execution_count": 29,
   "metadata": {},
   "outputs": [],
   "source": [
    "df_final.to_csv('../Submissions/sub_1.csv',index=False)"
   ]
  }
 ],
 "metadata": {
  "kernelspec": {
   "display_name": "Python 3",
   "language": "python",
   "name": "python3"
  },
  "language_info": {
   "codemirror_mode": {
    "name": "ipython",
    "version": 3
   },
   "file_extension": ".py",
   "mimetype": "text/x-python",
   "name": "python",
   "nbconvert_exporter": "python",
   "pygments_lexer": "ipython3",
   "version": "3.7.2"
  }
 },
 "nbformat": 4,
 "nbformat_minor": 2
}
